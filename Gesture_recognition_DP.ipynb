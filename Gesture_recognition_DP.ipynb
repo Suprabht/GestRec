{
 "cells": [
  {
   "cell_type": "markdown",
   "metadata": {},
   "source": [
    "# Gesture Recognition\n",
    "In this group project, you are going to build a 3D Conv model that will be able to predict the 5 gestures correctly. Please import the following libraries to get started."
   ]
  },
  {
   "cell_type": "code",
   "execution_count": 1,
   "metadata": {},
   "outputs": [],
   "source": [
    "import numpy as np\n",
    "import os\n",
    "from imageio import imread\n",
    "from skimage.transform import resize \n",
    "import datetime\n",
    "import os"
   ]
  },
  {
   "cell_type": "markdown",
   "metadata": {},
   "source": [
    "We set the random seed so that the results don't vary drastically."
   ]
  },
  {
   "cell_type": "code",
   "execution_count": 2,
   "metadata": {},
   "outputs": [
    {
     "name": "stdout",
     "output_type": "stream",
     "text": [
      "2.8.0\n"
     ]
    }
   ],
   "source": [
    "np.random.seed(30)\n",
    "import random as rn\n",
    "rn.seed(30)\n",
    "from keras import backend as K\n",
    "import tensorflow as tf\n",
    "#tf.set_random_seed(30)\n",
    "tf.random.set_seed(30)\n",
    "\n",
    "print(tf.__version__)"
   ]
  },
  {
   "cell_type": "markdown",
   "metadata": {},
   "source": [
    "In this block, you read the folder names for training and validation. You also set the `batch_size` here. Note that you set the batch size in such a way that you are able to use the GPU in full capacity. You keep increasing the batch size until the machine throws an error."
   ]
  },
  {
   "cell_type": "code",
   "execution_count": 3,
   "metadata": {},
   "outputs": [
    {
     "name": "stdout",
     "output_type": "stream",
     "text": [
      "(663,) (100,)\n"
     ]
    }
   ],
   "source": [
    "train_doc = np.random.permutation(open('C:/Users/dpdha/Downloads/Project_data/train.csv').readlines())\n",
    "val_doc = np.random.permutation(open('C:/Users/dpdha/Downloads/Project_data/val.csv').readlines())\n",
    "print(train_doc.shape, val_doc.shape)\n",
    "batch_size = 40  #experiment with the batch size\n",
    "img_height=80\n",
    "imh_width=80\n"
   ]
  },
  {
   "cell_type": "markdown",
   "metadata": {},
   "source": [
    "## Generator\n",
    "This is one of the most important part of the code. The overall structure of the generator has been given. In the generator, you are going to preprocess the images as you have images of 2 different dimensions as well as create a batch of video frames. You have to experiment with `img_idx`, `y`,`z` and normalization such that you get high accuracy."
   ]
  },
  {
   "cell_type": "code",
   "execution_count": null,
   "metadata": {},
   "outputs": [],
   "source": [
    "def generator(source_path, folder_list, batch_size):\n",
    "    print( 'Source path = ', source_path, '; batch size =', batch_size)\n",
    "    img_idx = [ 5, 7, 10, 12, 15, 17, 20, 22, 25, 27 ]  #create a list of image numbers you want to use for a particular video\n",
    "    x= len(img_idx) # number of image for each video\n",
    "    y= img_height  # (y,z) is the final size of the input images \n",
    "    z= imh_width\n",
    "    while True:\n",
    "        t = np.random.permutation(folder_list)\n",
    "        num_batches = len( source_path) // batch_size # calculate the number of batches\n",
    "        for batch in range(num_batches): # we iterate over the number of batches\n",
    "            batch_data = np.zeros((batch_size,x,y,z,3)) # x is the number of images you use for each video, (y,z) is the final size of the input images and 3 is the number of channels RGB\n",
    "            batch_labels = np.zeros((batch_size,5)) # batch_labels is the one hot representation of the output\n",
    "            for folder in range(batch_size): # iterate over the batch_size\n",
    "                imgs = os.listdir(source_path+'/'+ t[folder + (batch*batch_size)].split(';')[0]) # read all the images in the folder\n",
    "                for idx,item in enumerate(img_idx): #  Iterate iver the frames/images of a folder to read them in\n",
    "                    image = imread(source_path+'/'+ t[folder + (batch*batch_size)].strip().split(';')[0]+'/'+imgs[item]).astype(np.float32)\n",
    "                    \n",
    "                    #crop the images and resize them. Note that the images are of 2 different shape \n",
    "                    #and the conv3D will throw error if the inputs in a batch have different shapes\n",
    "                    \n",
    "                    image_resize = resize(image, (img_height, imh_width, 3))  \n",
    "                    # resizing for imh_height imgçwidth and 3 channels for colour\n",
    "                    \n",
    "                    batch_data[folder,idx,:,:,0] = (image_resize[:,:,0])/255 #normalise and feed in the image\n",
    "                    batch_data[folder,idx,:,:,1] = (image_resize[:,:,1])/255 #normalise and feed in the image\n",
    "                    batch_data[folder,idx,:,:,2] = (image_resize[:,:,2])/255 #normalise and feed in the image\n",
    "                    \n",
    "                batch_labels[folder, int(t[folder + (batch*batch_size)].strip().split(';')[2])] = 1\n",
    "            yield batch_data, batch_labels #you yield the batch_data and the batch_labels, remember what does yield do\n",
    "\n",
    "        \n",
    "        # write the code for the remaining data points which are left after full batches\n",
    "        remaining_data = len( source_path) % batch_size \n",
    "        batch = num_batches  # which is batch+1 and batch starts from 0\n",
    "        batch_data = np.zeros((batch_size,x,y,z,3)) # x is the number of images you use for each video, (y,z) is the final size of the input images and 3 is the number of channels RGB\n",
    "        batch_labels = np.zeros((batch_size,5)) # batch_labels is the one hot representation of the output\n",
    "        for folder in range(remaining_data): # iterate over the remaining_data batch_size\n",
    "            imgs = os.listdir(source_path+'/'+ t[folder + (batch*batch_size)].split(';')[0]) # read all the images in the folder\n",
    "            for idx,item in enumerate(img_idx): #  Iterate iver the frames/images of a folder to read them in\n",
    "                image = imread(source_path+'/'+ t[folder + (batch*batch_size)].strip().split(';')[0]+'/'+imgs[item]).astype(np.float32)\n",
    "\n",
    "                #crop the images and resize them. Note that the images are of 2 different shape \n",
    "                #and the conv3D will throw error if the inputs in a batch have different shapes\n",
    "\n",
    "                image_resize = resize(image, (img_height, imh_width, 3))  \n",
    "                # resizing for imh_height imgçwidth and 3 channels for colour\n",
    "\n",
    "                batch_data[folder,idx,:,:,0] = (image_resize[:,:,0])/255 #normalise and feed in the image\n",
    "                batch_data[folder,idx,:,:,1] = (image_resize[:,:,1])/255 #normalise and feed in the image\n",
    "                batch_data[folder,idx,:,:,2] = (image_resize[:,:,2])/255 #normalise and feed in the image\n",
    "\n",
    "            batch_labels[folder, int(t[folder + (batch*batch_size)].strip().split(';')[2])] = 1\n",
    "        yield batch_data, batch_labels #you yield the batch_data and the batch_labels, remember what does yield do\n",
    "\n",
    "         \n"
   ]
  },
  {
   "cell_type": "markdown",
   "metadata": {},
   "source": [
    "Note here that a video is represented above in the generator as (number of images, height, width, number of channels). Take this into consideration while creating the model architecture."
   ]
  },
  {
   "cell_type": "code",
   "execution_count": 5,
   "metadata": {},
   "outputs": [
    {
     "name": "stdout",
     "output_type": "stream",
     "text": [
      "# training sequences = 663\n",
      "# validation sequences = 100\n",
      "# epochs = 50\n"
     ]
    }
   ],
   "source": [
    "curr_dt_time = datetime.datetime.now()\n",
    "train_path = 'C:/Users/dpdha/Downloads/Project_data/train' # '/notebooks/storage/Final_data/Collated_training/train'\n",
    "val_path = 'C:/Users/dpdha/Downloads/Project_data/val' # '/notebooks/storage/Final_data/Collated_training/val'\n",
    "num_train_sequences = len(train_doc)\n",
    "print('# training sequences =', num_train_sequences)\n",
    "num_val_sequences = len(val_doc)\n",
    "print('# validation sequences =', num_val_sequences)\n",
    "num_epochs = 50 # choose the number of epochs\n",
    "print ('# epochs =', num_epochs)"
   ]
  },
  {
   "cell_type": "markdown",
   "metadata": {},
   "source": [
    "## Model\n",
    "Here you make the model using different functionalities that Keras provides. Remember to use `Conv3D` and `MaxPooling3D` and not `Conv2D` and `Maxpooling2D` for a 3D convolution model. You would want to use `TimeDistributed` while building a Conv2D + RNN model. Also remember that the last layer is the softmax. Design the network in such a way that the model is able to give good accuracy on the least number of parameters so that it can fit in the memory of the webcam."
   ]
  },
  {
   "cell_type": "code",
   "execution_count": 6,
   "metadata": {},
   "outputs": [
    {
     "name": "stdout",
     "output_type": "stream",
     "text": [
      "2.8.0\n"
     ]
    }
   ],
   "source": [
    "from tensorflow import keras\n",
    "from keras.models import Sequential, Model\n",
    "from keras.layers import Dense, GRU, Flatten, TimeDistributed, Flatten, BatchNormalization, Activation, Dropout\n",
    "from keras.layers.convolutional import Conv3D, MaxPooling3D, Conv2D\n",
    "from keras.callbacks import ModelCheckpoint, ReduceLROnPlateau\n",
    "from keras import optimizers\n",
    "\n",
    "#write your model here\n",
    "# model_conv3d_1 = Sequential()\n",
    "\n",
    "# input_shape=(num_frames, image_height, image_width, channels)\n",
    "inp_shape=(10, img_height, imh_width, 3)\n",
    "\n",
    "print(keras.__version__)"
   ]
  },
  {
   "cell_type": "code",
   "execution_count": 7,
   "metadata": {},
   "outputs": [],
   "source": [
    "model_conv3d_1 = Sequential()\n",
    "model_conv3d_1.add(Conv3D(16, (3, 3, 3), padding='same', input_shape=inp_shape ) )\n",
    "model_conv3d_1.add(Activation('relu'))\n",
    "model_conv3d_1.add(BatchNormalization())\n",
    "model_conv3d_1.add(MaxPooling3D(pool_size=(2, 2, 2)))\n",
    "\n",
    "model_conv3d_1.add(Conv3D(32, (3, 3, 3), padding='same'))\n",
    "model_conv3d_1.add(Activation('relu'))\n",
    "model_conv3d_1.add(BatchNormalization())\n",
    "model_conv3d_1.add(MaxPooling3D(pool_size=(2, 2, 2)))\n",
    "\n",
    "model_conv3d_1.add(Conv3D(64, (3, 3, 3), padding='same'))\n",
    "model_conv3d_1.add(Activation('relu'))\n",
    "model_conv3d_1.add(BatchNormalization())\n",
    "# model_conv3d_1.add(MaxPooling3D(pool_size=(4,4,4)))\n",
    "\n",
    "model_conv3d_1.add(Flatten())\n",
    "model_conv3d_1.add(Dense(128, activation='relu'))\n",
    "model_conv3d_1.add(BatchNormalization())\n",
    "model_conv3d_1.add(Dropout(0.3))\n",
    "\n",
    "model_conv3d_1.add(Dense(64, activation='relu'))\n",
    "model_conv3d_1.add(BatchNormalization())\n",
    "model_conv3d_1.add(Dropout(0.3))\n",
    "model_conv3d_1.add(Dense(5, activation='softmax'))\n",
    "\n",
    "# set the model based on Conv3D\n",
    "model = model_conv3d_1"
   ]
  },
  {
   "cell_type": "markdown",
   "metadata": {},
   "source": [
    "### Model based on CNN+RNN \n",
    "We shall use Resnet50 as base model in building CNN+RNN\n"
   ]
  },
  {
   "cell_type": "code",
   "execution_count": 8,
   "metadata": {},
   "outputs": [],
   "source": [
    "from tensorflow.keras.applications.resnet50 import ResNet50\n",
    "#  inp_shape=(5, img_height, imh_width, 3)\n",
    "resnet = ResNet50(include_top=False,weights='imagenet',input_shape=(80,80,3))"
   ]
  },
  {
   "cell_type": "code",
   "execution_count": 9,
   "metadata": {},
   "outputs": [],
   "source": [
    "for layer in resnet.layers[:-3]:\n",
    "    layer.trainable=False"
   ]
  },
  {
   "cell_type": "code",
   "execution_count": 10,
   "metadata": {},
   "outputs": [],
   "source": [
    "cnn =Sequential([resnet])\n",
    "cnn.add(Conv2D(64,(2,2), padding='same'))\n",
    "# cnn.add(Conv2D(16,(3,3),padding='same'))\n",
    "cnn.add(Flatten())"
   ]
  },
  {
   "cell_type": "code",
   "execution_count": 11,
   "metadata": {},
   "outputs": [
    {
     "name": "stdout",
     "output_type": "stream",
     "text": [
      "Model: \"sequential_1\"\n",
      "_________________________________________________________________\n",
      " Layer (type)                Output Shape              Param #   \n",
      "=================================================================\n",
      " resnet50 (Functional)       (None, 3, 3, 2048)        23587712  \n",
      "                                                                 \n",
      " conv2d (Conv2D)             (None, 3, 3, 64)          524352    \n",
      "                                                                 \n",
      " flatten_1 (Flatten)         (None, 576)               0         \n",
      "                                                                 \n",
      "=================================================================\n",
      "Total params: 24,112,064\n",
      "Trainable params: 528,448\n",
      "Non-trainable params: 23,583,616\n",
      "_________________________________________________________________\n",
      "None\n"
     ]
    }
   ],
   "source": [
    "print (cnn.summary())"
   ]
  },
  {
   "cell_type": "code",
   "execution_count": 53,
   "metadata": {},
   "outputs": [],
   "source": [
    "model_cnn_rnn = Sequential()\n",
    "model_cnn_rnn.add(TimeDistributed(cnn,input_shape=(10, 80, 80, 3)))\n",
    "model_cnn_rnn.add(GRU(16,input_shape=(None, 10, 256),return_sequences=True))\n",
    "# model_cnn_rnn.add(GRU(8))\n",
    "model_cnn_rnn.add(Flatten())\n",
    "model_cnn_rnn.add(Dense(5,activation='softmax'))"
   ]
  },
  {
   "cell_type": "code",
   "execution_count": 54,
   "metadata": {},
   "outputs": [
    {
     "name": "stdout",
     "output_type": "stream",
     "text": [
      "Model: \"sequential_9\"\n",
      "_________________________________________________________________\n",
      " Layer (type)                Output Shape              Param #   \n",
      "=================================================================\n",
      " time_distributed_7 (TimeDis  (None, 10, 576)          24112064  \n",
      " tributed)                                                       \n",
      "                                                                 \n",
      " gru_8 (GRU)                 (None, 10, 16)            28512     \n",
      "                                                                 \n",
      " flatten_2 (Flatten)         (None, 160)               0         \n",
      "                                                                 \n",
      " dense_10 (Dense)            (None, 5)                 805       \n",
      "                                                                 \n",
      "=================================================================\n",
      "Total params: 24,141,381\n",
      "Trainable params: 557,765\n",
      "Non-trainable params: 23,583,616\n",
      "_________________________________________________________________\n",
      "None\n"
     ]
    }
   ],
   "source": [
    "print (model_cnn_rnn.summary())"
   ]
  },
  {
   "cell_type": "markdown",
   "metadata": {},
   "source": [
    "Now that you have written the model, the next step is to `compile` the model. When you print the `summary` of the model, you'll see the total number of parameters you have to train."
   ]
  },
  {
   "cell_type": "code",
   "execution_count": 55,
   "metadata": {},
   "outputs": [],
   "source": [
    "# now set the model based on CNN+RNN\n",
    "model = model_cnn_rnn"
   ]
  },
  {
   "cell_type": "code",
   "execution_count": 56,
   "metadata": {
    "scrolled": true
   },
   "outputs": [
    {
     "name": "stdout",
     "output_type": "stream",
     "text": [
      "Model: \"sequential_9\"\n",
      "_________________________________________________________________\n",
      " Layer (type)                Output Shape              Param #   \n",
      "=================================================================\n",
      " time_distributed_7 (TimeDis  (None, 10, 576)          24112064  \n",
      " tributed)                                                       \n",
      "                                                                 \n",
      " gru_8 (GRU)                 (None, 10, 16)            28512     \n",
      "                                                                 \n",
      " flatten_2 (Flatten)         (None, 160)               0         \n",
      "                                                                 \n",
      " dense_10 (Dense)            (None, 5)                 805       \n",
      "                                                                 \n",
      "=================================================================\n",
      "Total params: 24,141,381\n",
      "Trainable params: 557,765\n",
      "Non-trainable params: 23,583,616\n",
      "_________________________________________________________________\n",
      "None\n"
     ]
    }
   ],
   "source": [
    "optimiser = 'adam' #write your optimizer\n",
    "model.compile(optimizer=optimiser, loss='categorical_crossentropy',  # loss=tf.losses.SparseCategoricalCrossentropy(),\n",
    "              metrics=['categorical_accuracy'])\n",
    "print (model.summary())"
   ]
  },
  {
   "cell_type": "markdown",
   "metadata": {},
   "source": [
    "Let us create the `train_generator` and the `val_generator` which will be used in `.fit_generator`."
   ]
  },
  {
   "cell_type": "code",
   "execution_count": 57,
   "metadata": {},
   "outputs": [],
   "source": [
    "train_generator = generator(train_path, train_doc, batch_size)\n",
    "val_generator = generator(val_path, val_doc, batch_size)"
   ]
  },
  {
   "cell_type": "code",
   "execution_count": 58,
   "metadata": {},
   "outputs": [
    {
     "name": "stdout",
     "output_type": "stream",
     "text": [
      "WARNING:tensorflow:`period` argument is deprecated. Please use `save_freq` to specify the frequency in number of batches seen.\n"
     ]
    }
   ],
   "source": [
    "model_name = 'model_init' + '_' + str(curr_dt_time).replace(' ','').replace(':','_') + '/'\n",
    "    \n",
    "if not os.path.exists(model_name):\n",
    "    os.mkdir(model_name)\n",
    "        \n",
    "filepath = model_name + 'model-{epoch:05d}-{loss:.5f}-{categorical_accuracy:.5f}-{val_loss:.5f}-{val_categorical_accuracy:.5f}.h5'\n",
    "\n",
    "checkpoint = ModelCheckpoint(filepath, monitor='val_loss', verbose=1, save_best_only=False, save_weights_only=False, mode='auto', period=1)\n",
    "\n",
    "LR = ReduceLROnPlateau(monitor='val_loss', factor=0.2,\n",
    "                       patience=5, min_lr=0.0005)   # write the REducelronplateau code here\n",
    "callbacks_list = [checkpoint, LR]"
   ]
  },
  {
   "cell_type": "markdown",
   "metadata": {},
   "source": [
    "The `steps_per_epoch` and `validation_steps` are used by `fit_generator` to decide the number of next() calls it need to make."
   ]
  },
  {
   "cell_type": "code",
   "execution_count": 59,
   "metadata": {},
   "outputs": [],
   "source": [
    "if (num_train_sequences%batch_size) == 0:\n",
    "    steps_per_epoch = int(num_train_sequences/batch_size)\n",
    "else:\n",
    "    steps_per_epoch = (num_train_sequences//batch_size) + 1\n",
    "\n",
    "if (num_val_sequences%batch_size) == 0:\n",
    "    validation_steps = int(num_val_sequences/batch_size)\n",
    "else:\n",
    "    validation_steps = (num_val_sequences//batch_size) + 1"
   ]
  },
  {
   "cell_type": "markdown",
   "metadata": {},
   "source": [
    "Let us now fit the model. This will start training the model and with the help of the checkpoints, you'll be able to save the model at the end of each epoch."
   ]
  },
  {
   "cell_type": "code",
   "execution_count": null,
   "metadata": {
    "scrolled": true
   },
   "outputs": [
    {
     "name": "stdout",
     "output_type": "stream",
     "text": [
      "Source path =  C:/Users/dpdha/Downloads/Project_data/train ; batch size = 40\n",
      "Epoch 1/50\n",
      "17/17 [==============================] - ETA: 0s - loss: 0.9822 - categorical_accuracy: 0.2044Source path =  C:/Users/dpdha/Downloads/Project_data/val ; batch size = 40\n",
      "\n",
      "Epoch 1: saving model to model_init_2022-05-1817_25_15.109741\\model-00001-0.98222-0.20441-1.03254-0.24167.h5\n",
      "17/17 [==============================] - 128s 7s/step - loss: 0.9822 - categorical_accuracy: 0.2044 - val_loss: 1.0325 - val_categorical_accuracy: 0.2417 - lr: 0.0010\n",
      "Epoch 2/50\n",
      "17/17 [==============================] - ETA: 0s - loss: 0.8233 - categorical_accuracy: 0.1353\n",
      "Epoch 2: saving model to model_init_2022-05-1817_25_15.109741\\model-00002-0.82326-0.13529-1.03579-0.15000.h5\n",
      "17/17 [==============================] - 137s 8s/step - loss: 0.8233 - categorical_accuracy: 0.1353 - val_loss: 1.0358 - val_categorical_accuracy: 0.1500 - lr: 0.0010\n",
      "Epoch 3/50\n",
      "17/17 [==============================] - ETA: 0s - loss: 0.8833 - categorical_accuracy: 0.1529\n",
      "Epoch 3: saving model to model_init_2022-05-1817_25_15.109741\\model-00003-0.88329-0.15294-1.05085-0.21667.h5\n",
      "17/17 [==============================] - 139s 8s/step - loss: 0.8833 - categorical_accuracy: 0.1529 - val_loss: 1.0509 - val_categorical_accuracy: 0.2167 - lr: 0.0010\n",
      "Epoch 4/50\n",
      "17/17 [==============================] - ETA: 0s - loss: 0.8013 - categorical_accuracy: 0.1132\n",
      "Epoch 4: saving model to model_init_2022-05-1817_25_15.109741\\model-00004-0.80130-0.11324-1.05407-0.13333.h5\n",
      "17/17 [==============================] - 142s 8s/step - loss: 0.8013 - categorical_accuracy: 0.1132 - val_loss: 1.0541 - val_categorical_accuracy: 0.1333 - lr: 0.0010\n",
      "Epoch 5/50\n",
      "17/17 [==============================] - ETA: 0s - loss: 0.8856 - categorical_accuracy: 0.1471\n",
      "Epoch 5: saving model to model_init_2022-05-1817_25_15.109741\\model-00005-0.88556-0.14706-1.05599-0.19167.h5\n",
      "17/17 [==============================] - 142s 8s/step - loss: 0.8856 - categorical_accuracy: 0.1471 - val_loss: 1.0560 - val_categorical_accuracy: 0.1917 - lr: 0.0010\n",
      "Epoch 6/50\n",
      "17/17 [==============================] - ETA: 0s - loss: 0.7947 - categorical_accuracy: 0.1368\n",
      "Epoch 6: saving model to model_init_2022-05-1817_25_15.109741\\model-00006-0.79471-0.13676-1.08450-0.08333.h5\n",
      "17/17 [==============================] - 152s 9s/step - loss: 0.7947 - categorical_accuracy: 0.1368 - val_loss: 1.0845 - val_categorical_accuracy: 0.0833 - lr: 0.0010\n",
      "Epoch 7/50\n",
      "17/17 [==============================] - ETA: 0s - loss: 0.8721 - categorical_accuracy: 0.1132\n",
      "Epoch 7: saving model to model_init_2022-05-1817_25_15.109741\\model-00007-0.87208-0.11324-1.11391-0.09167.h5\n",
      "17/17 [==============================] - 147s 9s/step - loss: 0.8721 - categorical_accuracy: 0.1132 - val_loss: 1.1139 - val_categorical_accuracy: 0.0917 - lr: 5.0000e-04\n",
      "Epoch 8/50\n",
      "17/17 [==============================] - ETA: 0s - loss: 0.8023 - categorical_accuracy: 0.1176\n",
      "Epoch 8: saving model to model_init_2022-05-1817_25_15.109741\\model-00008-0.80233-0.11765-1.04676-0.12500.h5\n",
      "17/17 [==============================] - 151s 9s/step - loss: 0.8023 - categorical_accuracy: 0.1176 - val_loss: 1.0468 - val_categorical_accuracy: 0.1250 - lr: 5.0000e-04\n",
      "Epoch 9/50\n",
      "17/17 [==============================] - ETA: 0s - loss: 0.8770 - categorical_accuracy: 0.1397\n",
      "Epoch 9: saving model to model_init_2022-05-1817_25_15.109741\\model-00009-0.87702-0.13971-1.07672-0.09167.h5\n",
      "17/17 [==============================] - 147s 9s/step - loss: 0.8770 - categorical_accuracy: 0.1397 - val_loss: 1.0767 - val_categorical_accuracy: 0.0917 - lr: 5.0000e-04\n",
      "Epoch 10/50\n",
      "17/17 [==============================] - ETA: 0s - loss: 0.7906 - categorical_accuracy: 0.1500\n",
      "Epoch 10: saving model to model_init_2022-05-1817_25_15.109741\\model-00010-0.79061-0.15000-1.04780-0.19167.h5\n",
      "17/17 [==============================] - 152s 9s/step - loss: 0.7906 - categorical_accuracy: 0.1500 - val_loss: 1.0478 - val_categorical_accuracy: 0.1917 - lr: 5.0000e-04\n",
      "Epoch 11/50\n",
      "17/17 [==============================] - ETA: 0s - loss: 0.8656 - categorical_accuracy: 0.1559\n",
      "Epoch 11: saving model to model_init_2022-05-1817_25_15.109741\\model-00011-0.86557-0.15588-1.04149-0.18333.h5\n",
      "17/17 [==============================] - 149s 9s/step - loss: 0.8656 - categorical_accuracy: 0.1559 - val_loss: 1.0415 - val_categorical_accuracy: 0.1833 - lr: 5.0000e-04\n",
      "Epoch 12/50\n",
      "17/17 [==============================] - ETA: 0s - loss: 0.7808 - categorical_accuracy: 0.1412\n",
      "Epoch 12: saving model to model_init_2022-05-1817_25_15.109741\\model-00012-0.78082-0.14118-1.05335-0.17500.h5\n",
      "17/17 [==============================] - 149s 9s/step - loss: 0.7808 - categorical_accuracy: 0.1412 - val_loss: 1.0533 - val_categorical_accuracy: 0.1750 - lr: 5.0000e-04\n",
      "Epoch 13/50\n",
      "17/17 [==============================] - ETA: 0s - loss: 0.8464 - categorical_accuracy: 0.1765\n",
      "Epoch 13: saving model to model_init_2022-05-1817_25_15.109741\\model-00013-0.84643-0.17647-0.99178-0.25000.h5\n",
      "17/17 [==============================] - 148s 9s/step - loss: 0.8464 - categorical_accuracy: 0.1765 - val_loss: 0.9918 - val_categorical_accuracy: 0.2500 - lr: 5.0000e-04\n",
      "Epoch 14/50\n",
      "17/17 [==============================] - ETA: 0s - loss: 0.7581 - categorical_accuracy: 0.1750\n",
      "Epoch 14: saving model to model_init_2022-05-1817_25_15.109741\\model-00014-0.75805-0.17500-1.01121-0.22500.h5\n",
      "17/17 [==============================] - 149s 9s/step - loss: 0.7581 - categorical_accuracy: 0.1750 - val_loss: 1.0112 - val_categorical_accuracy: 0.2250 - lr: 5.0000e-04\n",
      "Epoch 15/50\n",
      "17/17 [==============================] - ETA: 0s - loss: 0.8647 - categorical_accuracy: 0.1426\n",
      "Epoch 15: saving model to model_init_2022-05-1817_25_15.109741\\model-00015-0.86469-0.14265-1.04740-0.21667.h5\n",
      "17/17 [==============================] - 148s 9s/step - loss: 0.8647 - categorical_accuracy: 0.1426 - val_loss: 1.0474 - val_categorical_accuracy: 0.2167 - lr: 5.0000e-04\n",
      "Epoch 16/50\n",
      "12/17 [====================>.........] - ETA: 42s - loss: 0.8204 - categorical_accuracy: 0.1500"
     ]
    }
   ],
   "source": [
    "# model.fit_generator(train_generator, steps_per_epoch=steps_per_epoch, epochs=num_epochs, verbose=1, \n",
    "#                    callbacks=callbacks_list, validation_data=val_generator, \n",
    "#                    validation_steps=validation_steps, class_weight=None, workers=1, initial_epoch=0)\n",
    "\n",
    "model.fit(train_generator, steps_per_epoch=steps_per_epoch, epochs=num_epochs, verbose=1, \n",
    "                    callbacks=callbacks_list, validation_data=val_generator, \n",
    "                    validation_steps=validation_steps, class_weight=None, workers=1, initial_epoch=0)"
   ]
  },
  {
   "cell_type": "code",
   "execution_count": null,
   "metadata": {},
   "outputs": [],
   "source": [
    "print('ONS OCVN')"
   ]
  },
  {
   "cell_type": "code",
   "execution_count": null,
   "metadata": {},
   "outputs": [],
   "source": []
  }
 ],
 "metadata": {
  "kernelspec": {
   "display_name": "Python 3 (ipykernel)",
   "language": "python",
   "name": "python3"
  },
  "language_info": {
   "codemirror_mode": {
    "name": "ipython",
    "version": 3
   },
   "file_extension": ".py",
   "mimetype": "text/x-python",
   "name": "python",
   "nbconvert_exporter": "python",
   "pygments_lexer": "ipython3",
   "version": "3.9.7"
  }
 },
 "nbformat": 4,
 "nbformat_minor": 2
}
